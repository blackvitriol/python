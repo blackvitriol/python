{
 "cells": [
  {
   "cell_type": "code",
   "execution_count": null,
   "metadata": {},
   "outputs": [],
   "source": [
    "\"\"\"                                       \n",
    "                o  8                   \n",
    "                8  8                   \n",
    ".oPYo. o    o  o8P 8oPYo. .oPYo. odYo. \n",
    "8    8 8    8   8  8    8 8    8 8' `8 \n",
    "8    8 8    8   8  8    8 8    8 8   8 \n",
    "8YooP' `YooP8   8  8    8 `YooP' 8   8 \n",
    "8 ....::....8 ::..:..:::..:.....:..::..\n",
    "8 :::::::ooP'.:::::::::::::::::::::::::\n",
    "..:::::::...:::::::::::::::A7MD0V:::::::\n",
    "::::Python Learning::::::::::::17:05:18:::\n",
    ":::::::: Edit XML Tags  :::::::::::::::::::\n",
    "\"\"\"\n",
    "# Data Integrity in ML datasets:\n",
    "# To selectively convert uppercase\n",
    "# to lowercase characters in ALPR"
   ]
  },
  {
   "cell_type": "code",
   "execution_count": 23,
   "metadata": {
    "collapsed": true
   },
   "outputs": [],
   "source": [
    "import xml.etree.ElementTree as ET\n",
    "import os, glob\n",
    "from tqdm import tqdm"
   ]
  },
  {
   "cell_type": "code",
   "execution_count": 24,
   "metadata": {
    "collapsed": true
   },
   "outputs": [],
   "source": [
    "xmlpath = \"/home/a7md/New_Work/Datasets/train/Collective/Annotations/\"\n",
    "xmlfiles = glob.glob(os.path.join(xmlpath, \"*.xml\"))"
   ]
  },
  {
   "cell_type": "code",
   "execution_count": 25,
   "metadata": {},
   "outputs": [
    {
     "name": "stderr",
     "output_type": "stream",
     "text": [
      "  3%|▎         | 295/10570 [00:00<00:03, 2943.54it/s]"
     ]
    },
    {
     "name": "stdout",
     "output_type": "stream",
     "text": [
      "You have 10570 files..\n"
     ]
    },
    {
     "name": "stderr",
     "output_type": "stream",
     "text": [
      "100%|██████████| 10570/10570 [00:03<00:00, 3118.70it/s]"
     ]
    },
    {
     "name": "stdout",
     "output_type": "stream",
     "text": [
      "Modified and saved all XML files!\n"
     ]
    },
    {
     "name": "stderr",
     "output_type": "stream",
     "text": [
      "\n"
     ]
    }
   ],
   "source": [
    "print(\"You have {} files..\".format(len(xmlfiles)))\n",
    "    \n",
    "for file in tqdm(xmlfiles):\n",
    "    tree = ET.parse(file)\n",
    "    root = tree.getroot()\n",
    "    for nametag in root.findall('object'):\n",
    "        name = str(nametag.find('name').text)\n",
    "        if name.isalpha():\n",
    "            name = name.lower()\n",
    "            nametag.find('name').text = name\n",
    "    tree.write(file)\n",
    "    \n",
    "print(\"Modified and saved all XML files!\")"
   ]
  },
  {
   "cell_type": "code",
   "execution_count": null,
   "metadata": {
    "collapsed": true
   },
   "outputs": [],
   "source": []
  }
 ],
 "metadata": {
  "kernelspec": {
   "display_name": "Python 3",
   "language": "python",
   "name": "python3"
  },
  "language_info": {
   "codemirror_mode": {
    "name": "ipython",
    "version": 3
   },
   "file_extension": ".py",
   "mimetype": "text/x-python",
   "name": "python",
   "nbconvert_exporter": "python",
   "pygments_lexer": "ipython3",
   "version": "3.5.2"
  }
 },
 "nbformat": 4,
 "nbformat_minor": 2
}
