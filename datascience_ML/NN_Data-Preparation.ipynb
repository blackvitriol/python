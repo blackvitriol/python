{
 "cells": [
  {
   "cell_type": "code",
   "execution_count": null,
   "metadata": {
    "collapsed": true
   },
   "outputs": [],
   "source": [
    "# Before we begin, lets collect all our tools (libraries)\n",
    "\n",
    "import os, glob, string, time, sys\n",
    "import numpy as np\n",
    "import pandas as pd, pandas.io.common\n",
    "import cv2 as cv2\n",
    "import matplotlib, matplotlib.pyplot as plt\n",
    "from IPython.display import display, Image\n",
    "%matplotlib inline"
   ]
  },
  {
   "cell_type": "code",
   "execution_count": null,
   "metadata": {},
   "outputs": [],
   "source": [
    "print(\"┌┬┐┌─┐┌┬┐┌─┐  ┌─┐┌─┐┬┌─┐┌┐┌┌─┐┌─┐\")\n",
    "print(\" ││├─┤ │ ├─┤  └─┐│  │├┤ ││││  ├┤ \")\n",
    "print(\"─┴┘┴ ┴ ┴ ┴ ┴  └─┘└─┘┴└─┘┘└┘└─┘└─┘\")\n",
    "\n",
    "for char in \"Welcome to Data Sciences with A7™\":\n",
    "    time.sleep(0.1)\n",
    "    print(char, end='', flush=True)\n",
    "\n",
    "print (\"\\nusing Pandas version:\",pandas.__version__)\n",
    "print(\"using Python version:\", sys.version)\n",
    "\n",
    "# This notebook has been designed with Python 3.5.2, \n",
    "# Pandas 0.22.0, Ipython 5.4.1"
   ]
  },
  {
   "cell_type": "code",
   "execution_count": null,
   "metadata": {
    "collapsed": true
   },
   "outputs": [],
   "source": []
  }
 ],
 "metadata": {
  "kernelspec": {
   "display_name": "tfkeras",
   "language": "python",
   "name": "tfkeras"
  },
  "language_info": {
   "codemirror_mode": {
    "name": "ipython",
    "version": 3
   },
   "file_extension": ".py",
   "mimetype": "text/x-python",
   "name": "python",
   "nbconvert_exporter": "python",
   "pygments_lexer": "ipython3",
   "version": "3.5.2"
  }
 },
 "nbformat": 4,
 "nbformat_minor": 2
}
