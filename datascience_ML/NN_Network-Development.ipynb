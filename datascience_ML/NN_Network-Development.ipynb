{
 "cells": [
  {
   "cell_type": "code",
   "execution_count": null,
   "metadata": {
    "collapsed": true
   },
   "outputs": [],
   "source": [
    "#----- Introduction ------\n",
    "\n",
    "print(\n",
    "'''                   .__    .__                   \n",
    "  _____ _____    ____ |  |__ |__| ____   ____      \n",
    " /     \\\\__  \\ _/ ___\\|  |  \\|  |/    \\_/ __ \\     \n",
    "|  Y Y  \\/ __ \\\\  \\___|   Y  \\  |   |  \\  ___/     \n",
    "|__|_|  (____  /\\___  >___|  /__|___|  /\\___  >    \n",
    "      \\/     \\/     \\/     \\/        \\/     \\/     \n",
    ".__machine learning with A7MD0V..__   in Keras             \n",
    "|  |   ____ _____ _______  ____ |__| ____    ____  \n",
    "|  | _/ __ \\\\__  \\\\_  __ \\/    \\|  |/    \\  / ___\\ \n",
    "|  |_\\  ___/ / __ \\|  | \\/   |  \\  |   |  \\/ /_/  >\n",
    "|____/\\___  >____  /__|  |___|  /__|___|  /\\___  / \n",
    "          \\/     \\/           \\/        \\//_____/\n",
    "using a TensorFlow backend-------------------2017-->\n",
    "'''\n",
    ")"
   ]
  },
  {
   "cell_type": "code",
   "execution_count": null,
   "metadata": {
    "collapsed": true
   },
   "outputs": [],
   "source": [
    "# Collect all tools\n",
    "print('Collecting tools...')\n",
    "print('Importin libraries...')\n",
    "print('Settin Variables...')\n",
    "\n",
    "from keras.applications.vgg16 import VGG16\n",
    "from keras.applications.vgg16 import preprocess_input\n",
    "\n",
    "from keras.preprocessing import image\n",
    "from keras.preprocessing.image import ImageDataGenerator, array_to_img, img_to_array, load_img\n",
    "\n",
    "from keras.layers import Input, Flatten, Dense, Conv2D, MaxPooling2D, Dropout \n",
    "from keras.models import Model\n",
    "from keras.optimizers import SGD\n",
    "from keras.utils.vis_utils import plot_model\n",
    "from keras.callbacks import ModelCheckpoint, CSVLogger\n",
    "\n",
    "from keras import backend as K\n",
    "import keras\n",
    "\n",
    "import numpy as np\n",
    "import h5py, cv2 as cv2\n",
    "from random import shuffle\n",
    "from math import ceil\n",
    "import matplotlib, matplotlib.pyplot as plt\n",
    "from IPython.display import display, Image\n",
    "\n",
    "import glob,os,sys\n",
    "\n",
    "%matplotlib inline"
   ]
  },
  {
   "cell_type": "code",
   "execution_count": null,
   "metadata": {
    "collapsed": true
   },
   "outputs": [],
   "source": [
    "# ============ Loading Data ======================\n",
    "modelpath = input('Where is the NN model file ?..')\n",
    "hdf5_path = input('Where is the HDF5 dataset ?..')\n",
    "# =================================================\n",
    "\n",
    "# open the hdf5 file\n",
    "hdf5_file = h5py.File(hdf5_path, \"r\")\n",
    "\n",
    "subtract_mean = False\n",
    "batch_size = 6\n",
    "i_s = 0 # starting of data\n",
    "i_e = 4000 # ending of data\n",
    "\n",
    "# subtract the training mean\n",
    "if subtract_mean:\n",
    "    mm = hdf5_file[\"train_mean\"][0, ...]\n",
    "    mm = mm[np.newaxis, ...]\n",
    "\n",
    "# # Total number of samples\n",
    "# data_num = hdf5_file[\"train_img\"].shape[0]\n",
    "\n",
    "X_train = hdf5_file[\"train_img\"][i_s:i_e]\n",
    "y_train = hdf5_file[\"train_labels\"][i_s:i_e]\n",
    "\n",
    "# in progress"
   ]
  }
 ],
 "metadata": {
  "kernelspec": {
   "display_name": "tfkeras",
   "language": "python",
   "name": "tfkeras"
  },
  "language_info": {
   "codemirror_mode": {
    "name": "ipython",
    "version": 3
   },
   "file_extension": ".py",
   "mimetype": "text/x-python",
   "name": "python",
   "nbconvert_exporter": "python",
   "pygments_lexer": "ipython3",
   "version": "3.5.2"
  }
 },
 "nbformat": 4,
 "nbformat_minor": 2
}
