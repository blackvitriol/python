{
 "cells": [
  {
   "cell_type": "code",
   "execution_count": null,
   "metadata": {
    "collapsed": true
   },
   "outputs": [],
   "source": [
    "\"\"\"                                       \n",
    "                o  8                   \n",
    "                8  8                   \n",
    ".oPYo. o    o  o8P 8oPYo. .oPYo. odYo. \n",
    "8    8 8    8   8  8    8 8    8 8' `8 \n",
    "8    8 8    8   8  8    8 8    8 8   8 \n",
    "8YooP' `YooP8   8  8    8 `YooP' 8   8 \n",
    "8 ....::....8 ::..:..:::..:.....:..::..\n",
    "8 :::::::ooP'.:::::::::::::::::::::::::\n",
    "..:::::::...:::::::::::::::A7MD0V:::::::\n",
    "::::Python Learning::::::::::::18:05:18:::\n",
    ":::: Extracting from XML ::::::::::::::::::\n",
    "\"\"\"\n",
    "# Extracting metadata information from\n",
    "# XML files, then using it for image ops"
   ]
  },
  {
   "cell_type": "code",
   "execution_count": 26,
   "metadata": {
    "collapsed": true
   },
   "outputs": [],
   "source": [
    "# Importing libraries and tools\n",
    "from tqdm import tqdm\n",
    "import os, shutil, sys, time, glob\n",
    "import xml.etree.ElementTree as ET\n",
    "import cv2\n",
    "import numpy as np\n",
    "import matplotlib.pyplot as plt\n",
    "\n",
    "%matplotlib inline"
   ]
  },
  {
   "cell_type": "code",
   "execution_count": 27,
   "metadata": {
    "collapsed": true
   },
   "outputs": [],
   "source": [
    "# Setting up paths, configuring parameters\n",
    "\n",
    "i_dir = \"/home/a7md/New_Work/Datasets/train/JPEGimages\"\n",
    "a_dir = \"/home/a7md/New_Work/Datasets/train/Annotations\"\n",
    "\n",
    "final_i_dir = \"/home/a7md/New_Work/Datasets/train/croppedI/\"\n",
    "\n",
    "if not os.path.exists(final_i_dir):\n",
    "    os.makedirs(final_i_dir)"
   ]
  },
  {
   "cell_type": "code",
   "execution_count": null,
   "metadata": {},
   "outputs": [],
   "source": [
    "i_list = glob.glob(os.path.join(i_dir, \"*.jpg\"))\n",
    "\n",
    "for i in tqdm(range(len(i_list))):\n",
    "\n",
    "#     print(\"File number: {} of {}\".format(i,len(i_list)))\n",
    "    \n",
    "    # Load image from list\n",
    "    inputfile = i_list[i]\n",
    "    inputfilename = os.path.basename(inputfile)\n",
    "    inputfnonly = os.path.splitext(inputfilename)[0]\n",
    "    imagefile = str((os.path.join(i_dir, inputfnonly+\".jpg\")))#[2:-2] # set JPG or PNG\n",
    "    annotationfile = str((os.path.join(a_dir, inputfnonly+\".xml\")))#[2:-2] #set XML or TXT\n",
    "    \n",
    "#     print(\"For Image: \",imagefile)\n",
    "#     print(\"and for annotation: \",annotationfile)\n",
    "    \n",
    "    tree = ET.parse(annotationfile)\n",
    "    root = tree.getroot()\n",
    "    objects = root.find('object')\n",
    "    \n",
    "    if objects:\n",
    "        obj_type = str(objects.find('name').text)\n",
    "\n",
    "        for count, obj in enumerate(root.iter('object')):\n",
    "            if obj_type == \"LicensePlate\":\n",
    "\n",
    "                bndbox = obj.find('bndbox')\n",
    "                x1 = int(bndbox.find('xmin').text)\n",
    "                y1 = int(bndbox.find('ymin').text)\n",
    "                x2 = int(bndbox.find('xmax').text)\n",
    "                y2 = int(bndbox.find('ymax').text)\n",
    "        #             print(index, \"\\nFound plate at coordinates: \",x1,x2,y1,y2)\n",
    "\n",
    "                img = cv2.imread(imagefile)\n",
    "                crop_img = img[y1:y2, x1:x2]\n",
    "                cv2.imwrite(final_i_dir+inputfnonly+\"-\"+str(count)+\".jpg\", crop_img)\n",
    "\n",
    "        #             plt.imshow(crop_img)\n",
    "        #             plt.show()\n",
    "\n",
    "print(\"All images have been cropped..\")"
   ]
  }
 ],
 "metadata": {
  "kernelspec": {
   "display_name": "Python 3",
   "language": "python",
   "name": "python3"
  },
  "language_info": {
   "codemirror_mode": {
    "name": "ipython",
    "version": 3
   },
   "file_extension": ".py",
   "mimetype": "text/x-python",
   "name": "python",
   "nbconvert_exporter": "python",
   "pygments_lexer": "ipython3",
   "version": "3.5.2"
  }
 },
 "nbformat": 4,
 "nbformat_minor": 2
}
