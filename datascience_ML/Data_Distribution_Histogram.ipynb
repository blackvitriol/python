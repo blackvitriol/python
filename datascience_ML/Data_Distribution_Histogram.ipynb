{
 "cells": [
  {
   "cell_type": "code",
   "execution_count": null,
   "metadata": {},
   "outputs": [],
   "source": [
    "\"\"\"                                       \n",
    "                o  8                   \n",
    "                8  8                   \n",
    ".oPYo. o    o  o8P 8oPYo. .oPYo. odYo. \n",
    "8    8 8    8   8  8    8 8    8 8' `8 \n",
    "8    8 8    8   8  8    8 8    8 8   8 \n",
    "8YooP' `YooP8   8  8    8 `YooP' 8   8 \n",
    "8 ....::....8 ::..:..:::..:.....:..::..\n",
    "8 :::::::ooP'.:::::::::::::::::::::::::\n",
    "..:::::::...:::::::::::::::A7MD0V:::::::\n",
    "::::Python Learning::::::::::::26:04:18:::\n",
    ":::::::: Histogram Generation :::::::::::::\n",
    "\n",
    "To generate a histogram showing the occurence\n",
    "of unique alphanumeric characters within a string.\n",
    "\n",
    "In this case, the strings were acquired from\n",
    "file names, as is the case in most machine learning\n",
    "datasets. The strings serve as ground truth for ML tasks.\n",
    "\"\"\""
   ]
  },
  {
   "cell_type": "code",
   "execution_count": 108,
   "metadata": {
    "scrolled": true
   },
   "outputs": [
    {
     "name": "stdout",
     "output_type": "stream",
     "text": [
      "Total count:  [2659, 1036, 1177, 1565, 2011, 778, 771, 644, 1569, 642, 501, 2731, 393, 442, 260, 359, 150, 1733, 944, 916, 428, 472, 586, 452, 439, 657, 2790, 3666, 3320, 3282, 3127, 3424, 3459, 3224, 3305, 3134]\n"
     ]
    },
    {
     "data": {
      "image/png": "[encoded data removed]",
      "text/plain": [
       "<matplotlib.figure.Figure at 0x7fd59ac03358>"
      ]
     },
     "metadata": {},
     "output_type": "display_data"
    }
   ],
   "source": [
    "%matplotlib inline\n",
    "import glob, os, string\n",
    "import matplotlib.pyplot as plt\n",
    "import numpy as np\n",
    "\n",
    "# If text exists in the file name of images\n",
    "i_path = \"/home/Datasets/train/pak9570/image\"\n",
    "i_list = glob.glob(os.path.join(i_path, \"*.jpg\"))\n",
    "\n",
    "chars = \"ABCDEFGHIJKLMNOPQRSTUVWXYZ1234567890\"\n",
    "chars = list(chars)\n",
    "\n",
    "# create dictionary of alphanumeric characters\n",
    "d = {n: letter for n, letter in enumerate(string.ascii_uppercase+string.digits, 1)}\n",
    "alphanum = [0]*36\n",
    "\n",
    "#------------------------------------------------\n",
    "def countAlphaNum(string):\n",
    "    string = list(string)\n",
    "    for char in string: #for every index of list\n",
    "        key = (list(d.keys())[list(d.values()).index(char)])\n",
    "        alphanum[key-1]+=1 #add 1 based on index of array\n",
    "        #print(\"Value:\",char,\"Key:\",key)\n",
    "    #print(alphanum)\n",
    "    return\n",
    "#------------------------------------------------\n",
    "#for image files in list of images:\n",
    "for i in range(0,len(i_list)):\n",
    "    \n",
    "    #if string to be parsed is in name of file:\n",
    "    # ---------------\n",
    "    #load filename from file list as string > list\n",
    "    inputfile = i_list[i]\n",
    "    inputfilename = os.path.basename(inputfile)\n",
    "    inputfnonly = os.path.splitext(inputfilename)[0]\n",
    "    string = str(inputfnonly.split('-')[0])\n",
    "    string = list(filter(str.isalnum, string))\n",
    "    string = list(string)\n",
    "    #print(string)\n",
    "    # ---------------\n",
    "    \n",
    "    #pass string to function to get char count\n",
    "    countAlphaNum(string)\n",
    "\n",
    "print(\"Total count: \",alphanum)\n",
    "\n",
    "letters = d.values()\n",
    "counts = alphanum\n",
    "bar_x_locations = np.arange(len(counts))\n",
    "\n",
    "plt.figure(figsize=(7,7))\n",
    "plt.bar(bar_x_locations, counts, align = 'center')\n",
    "plt.title('Distribution of characers in PAK9750 Dataset')\n",
    "\n",
    "plt.xlabel(\"Alpha-numeric characters\") and plt.ylabel(\"Occurence of characters\")\n",
    "plt.xticks(bar_x_locations, letters)\n",
    "plt.savefig('PAK9750_distribution.png')\n",
    "\n",
    "plt.show()\n"
   ]
  },
  {
   "cell_type": "code",
   "execution_count": null,
   "metadata": {
    "collapsed": true
   },
   "outputs": [],
   "source": []
  }
 ],
 "metadata": {
  "kernelspec": {
   "display_name": "Python 3",
   "language": "python",
   "name": "python3"
  },
  "language_info": {
   "codemirror_mode": {
    "name": "ipython",
    "version": 3
   },
   "file_extension": ".py",
   "mimetype": "text/x-python",
   "name": "python",
   "nbconvert_exporter": "python",
   "pygments_lexer": "ipython3",
   "version": "3.5.2"
  }
 },
 "nbformat": 4,
 "nbformat_minor": 2
}
