{
 "cells": [
  {
   "cell_type": "markdown",
   "metadata": {},
   "source": [
    "# ProbLog\n",
    "<b>Probabilistic Reasoning using ProbLog</b> by <i>A7MD0V</i>"
   ]
  },
  {
   "cell_type": "code",
   "execution_count": 5,
   "metadata": {},
   "outputs": [
    {
     "name": "stderr",
     "output_type": "stream",
     "text": [
      "no decisions found\n"
     ]
    }
   ],
   "source": [
    "from problog.program import PrologString\n",
    "from problog import get_evaluatable\n",
    "from problog.tasks.dtproblog import dtproblog"
   ]
  },
  {
   "cell_type": "code",
   "execution_count": 6,
   "metadata": {
    "collapsed": true
   },
   "outputs": [],
   "source": [
    "model = \"\"\"\n",
    "    0.3::rain.\n",
    "    0.5::wind.\n",
    "    ?::umbrella.\n",
    "    ?::raincoat.\n",
    "\n",
    "    broken_umbrella :- umbrella, rain, wind.\n",
    "    dry :- rain, raincoat.\n",
    "    dry :- rain, umbrella, not broken_umbrella.\n",
    "    dry :- not(rain).\n",
    "\n",
    "    utility(broken_umbrella, -40).\n",
    "    utility(raincoat, -20).\n",
    "    utility(umbrella, -2).\n",
    "    utility(dry, 60).\n",
    "\"\"\""
   ]
  },
  {
   "cell_type": "code",
   "execution_count": 8,
   "metadata": {},
   "outputs": [
    {
     "name": "stdout",
     "output_type": "stream",
     "text": [
      "umbrella: 1\n",
      "raincoat: 0\n"
     ]
    }
   ],
   "source": [
    "program = PrologString(model)\n",
    "decisions, score, statistics = dtproblog(program)\n",
    "\n",
    "for name, value in decisions.items():\n",
    "    print ('%s: %s' % (name, value))"
   ]
  },
  {
   "cell_type": "code",
   "execution_count": null,
   "metadata": {
    "collapsed": true
   },
   "outputs": [],
   "source": []
  }
 ],
 "metadata": {
  "kernelspec": {
   "display_name": "Python 3",
   "language": "python",
   "name": "python3"
  },
  "language_info": {
   "codemirror_mode": {
    "name": "ipython",
    "version": 3
   },
   "file_extension": ".py",
   "mimetype": "text/x-python",
   "name": "python",
   "nbconvert_exporter": "python",
   "pygments_lexer": "ipython3",
   "version": "3.5.2"
  }
 },
 "nbformat": 4,
 "nbformat_minor": 2
}
