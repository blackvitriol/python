{
 "cells": [
  {
   "cell_type": "code",
   "execution_count": null,
   "metadata": {
    "collapsed": true
   },
   "outputs": [],
   "source": [
    "print(\n",
    "'''\n",
    "                      .__    .__                   \n",
    "  _____ _____    ____ |  |__ |__| ____   ____      \n",
    " /     \\\\__  \\ _/ ___\\|  |  \\|  |/    \\_/ __ \\     \n",
    "|  Y Y  \\/ __ \\\\  \\___|   Y  \\  |   |  \\  ___/     \n",
    "|__|_|  (____  /\\___  >___|  /__|___|  /\\___  >    \n",
    "      \\/     \\/     \\/     \\/        \\/     \\/     \n",
    ".__machine learning with A7MD0V..__\n",
    "|  |   ____ _____ _______  ____ |__| ____    ____  \n",
    "|  | _/ __ \\\\__  \\\\_  __ \\/    \\|  |/    \\  / ___\\ \n",
    "|  |_\\  ___/ / __ \\|  | \\/   |  \\  |   |  \\/ /_/  >\n",
    "|____/\\___  >____  /__|  |___|  /__|___|  /\\___  / \n",
    "          \\/     \\/           \\/        \\//_____/\n",
    " with TensorFlow in Python 3 ----2017-->\n",
    "\n",
    "'''\n",
    ")"
   ]
  },
  {
   "cell_type": "code",
   "execution_count": null,
   "metadata": {
    "collapsed": true
   },
   "outputs": [],
   "source": [
    "# Collect, import and set all tools\n",
    "print('Collecting tools...')\n",
    "print('Importin libraries...')\n",
    "print('Settin Variables...')\n",
    "\n",
    "tf.logging.set_verbosity(tf.logging.INFO)"
   ]
  },
  {
   "cell_type": "code",
   "execution_count": null,
   "metadata": {
    "collapsed": true
   },
   "outputs": [],
   "source": [
    "# Check systems\n",
    "print('You are using the following software versions, make sure it matches the code:')\n",
    "print('Python version:', sys.version)\n",
    "print('TensorFlow version:', tf.__version__)"
   ]
  },
  {
   "cell_type": "code",
   "execution_count": null,
   "metadata": {
    "collapsed": true
   },
   "outputs": [],
   "source": [
    "# Setup your input"
   ]
  },
  {
   "cell_type": "code",
   "execution_count": null,
   "metadata": {
    "collapsed": true
   },
   "outputs": [],
   "source": [
    "# Define your model"
   ]
  },
  {
   "cell_type": "code",
   "execution_count": null,
   "metadata": {
    "collapsed": true
   },
   "outputs": [],
   "source": [
    "# Train and evaluate"
   ]
  }
 ],
 "metadata": {
  "kernelspec": {
   "display_name": "Tesorflow3",
   "language": "python",
   "name": "tensorflow3"
  }
 },
 "nbformat": 4,
 "nbformat_minor": 2
}
